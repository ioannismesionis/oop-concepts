{
 "cells": [
  {
   "attachments": {},
   "cell_type": "markdown",
   "metadata": {},
   "source": [
    "## 1. Inheritance"
   ]
  },
  {
   "attachments": {},
   "cell_type": "markdown",
   "metadata": {},
   "source": [
    "**Inheritance** is a mechanism in object-oriented programming that allows you to create a new class by deriving it from an existing class. The new class is called a subclass or derived class, and the existing class is called the superclass or base class. \n",
    "\n",
    "The subclass inherits:\n",
    "1. All the properties of the superclass.\n",
    "2. All the methods of the superclass.\n",
    "\n",
    "It can also add its own properties and methods as well."
   ]
  },
  {
   "cell_type": "code",
   "execution_count": 1,
   "metadata": {},
   "outputs": [
    {
     "name": "stdout",
     "output_type": "stream",
     "text": [
      "Woof!\n",
      "Meow!\n"
     ]
    }
   ],
   "source": [
    "# Main Class\n",
    "class Animal:  \n",
    "    def __init__(self, name):\n",
    "        self.name = name\n",
    "\n",
    "    def speak(self):\n",
    "        pass\n",
    "\n",
    "\n",
    "# Sub-class 1 (Dog)\n",
    "class Dog(Animal):\n",
    "    def speak(self):\n",
    "        return \"Woof!\"\n",
    "\n",
    "\n",
    "# Sub-class 2 (Cat)\n",
    "class Cat(Animal):\n",
    "    def speak(self):\n",
    "        return \"Meow!\"\n",
    "\n",
    "my_dog = Dog(\"Rufus\")\n",
    "my_cat = Cat(\"Fluffy\")\n",
    "\n",
    "print(my_dog.speak()) # Output: Woof!\n",
    "print(my_cat.speak()) # Output: Meow!"
   ]
  },
  {
   "attachments": {},
   "cell_type": "markdown",
   "metadata": {},
   "source": [
    "In Data Science, inheritance can be useful in several ways, such as Inheriting from a base class: <br>\n",
    "\n",
    "_Example:_ <br>\n",
    "You can define a base class that contains common functionality and then inherit from it to create specialized classes. <br>\n",
    "For example, you could define a base class called \"Classifier\" that contains methods for training and evaluating a machine learning model, and then inherit from it to create specific classifiers like \"RandomForestClassifier\" or \"LogisticRegressionClassifier\"."
   ]
  },
  {
   "cell_type": "markdown",
   "metadata": {},
   "source": [
    "https://www.educative.io/answers/what-is-class-inheritance-in-python"
   ]
  },
  {
   "attachments": {},
   "cell_type": "markdown",
   "metadata": {},
   "source": [
    "## 2. Polymorphism"
   ]
  },
  {
   "attachments": {},
   "cell_type": "markdown",
   "metadata": {},
   "source": [
    "**Polymorphism** is the ability of objects of different classes to be used interchangeably.\n",
    "\n",
    "In Python, polymorphism can be achieved through:\n",
    "\n",
    "1. _method overriding_\n",
    "2. _method overloading._"
   ]
  },
  {
   "cell_type": "code",
   "execution_count": 2,
   "metadata": {},
   "outputs": [
    {
     "name": "stdout",
     "output_type": "stream",
     "text": [
      "animal\n",
      "dog\n"
     ]
    }
   ],
   "source": [
    "# Define parent class Animal\n",
    "class Animal:\n",
    "    def type(self):\n",
    "        print(\"animal\")\n",
    "\n",
    "\n",
    "# Define sub-class Dog\t\n",
    "class Dog(Animal):\n",
    "    def type(self):\n",
    "        print(\"dog\")\n",
    "\n",
    "# Initialize objects\n",
    "obj_bear = Animal()\n",
    "obj_terrier = Dog()\n",
    "\n",
    "# Demonstrate method overriding\n",
    "obj_bear.type()    # Returns animal\n",
    "obj_terrier.type() # Returns dog"
   ]
  },
  {
   "attachments": {},
   "cell_type": "markdown",
   "metadata": {},
   "source": [
    "* **Function Polymorphism**\n",
    "\n",
    "Certain functions in Python are polymorphic as well, meaning that they can act on multiple data types and structures to yield different kinds of information.\n",
    "\n",
    "Python’s built-in len() function, for instance, can be used to return the length of an object. However, it will measure the length of the object differently depending on the object’s data type and structure. <br>\n",
    "_For instance_, if the object is a string, the \"len()\" function will return the number of characters in the string. If the object is a list, it will return the number of entries in the list."
   ]
  },
  {
   "cell_type": "code",
   "execution_count": 3,
   "metadata": {},
   "outputs": [
    {
     "name": "stdout",
     "output_type": "stream",
     "text": [
      "6\n",
      "4\n"
     ]
    }
   ],
   "source": [
    "str1 = \"animal\"\n",
    "print(len(str1))\n",
    "# returns 6\n",
    "\n",
    "list1 = [\"giraffe\",\"lion\",\"bear\",\"dog\"]\n",
    "print(len(list1))\n",
    "# returns 4"
   ]
  },
  {
   "attachments": {},
   "cell_type": "markdown",
   "metadata": {},
   "source": [
    "_Example_: <br>\n",
    "In Machine Learning, feature engineering is the process of creating new features from existing data that can improve the performance of a model. Polymorphism can be used to create a base class for feature engineering, and then create subclasses that implement specific feature engineering techniques such as scaling, normalization, or text processing."
   ]
  },
  {
   "cell_type": "code",
   "execution_count": 4,
   "metadata": {},
   "outputs": [
    {
     "name": "stdout",
     "output_type": "stream",
     "text": [
      "[[1 2 3]\n",
      " [4 5 6]\n",
      " [7 8 9]]\n",
      "[[-1.54919334 -1.161895   -0.77459667]\n",
      " [-0.38729833  0.          0.38729833]\n",
      " [ 0.77459667  1.161895    1.54919334]]\n",
      "[[0.    0.125 0.25 ]\n",
      " [0.375 0.5   0.625]\n",
      " [0.75  0.875 1.   ]]\n"
     ]
    }
   ],
   "source": [
    "# Import numpy for the data\n",
    "import numpy as np\n",
    "\n",
    "\n",
    "class FeatureEngineering:\n",
    "    def transform(self, X):\n",
    "        return X\n",
    "\n",
    "class StandardScaler(FeatureEngineering):\n",
    "    def transform(self, X):\n",
    "        # Perform standard scaling on the input data\n",
    "        return (X - X.mean()) / X.std()\n",
    "\n",
    "class MinMaxScaler(FeatureEngineering):\n",
    "    def transform(self, X):\n",
    "        # Perform min-max scaling on the input data\n",
    "        return (X - X.min()) / (X.max() - X.min())\n",
    "\n",
    "# Define some data\n",
    "X = np.array([[1, 2, 3], [4, 5, 6], [7, 8, 9]])\n",
    "\n",
    "fe = FeatureEngineering()\n",
    "ss = StandardScaler()\n",
    "mm = MinMaxScaler()\n",
    "\n",
    "print(fe.transform(X))   # [[1, 2, 3], [4, 5, 6], [7, 8, 9]]\n",
    "print(ss.transform(X))   # [[-1.22474487, -1.22474487, -1.22474487],\n",
    "                         #  [ 0.,          0.,          0.        ],\n",
    "                         #  [ 1.22474487,  1.22474487,  1.22474487]]\n",
    "print(mm.transform(X))   # [[ 0.,          0.,          0.        ],\n",
    "                         #  [ 0.5,         0.5,         0.5       ],\n",
    "                         #  [ 1.,          1.,          1.        ]]\n"
   ]
  },
  {
   "attachments": {},
   "cell_type": "markdown",
   "metadata": {},
   "source": [
    "By using polymorphism in Data Science and Machine Learning, you can write more modular and reusable code that is easier to maintain and extend. <br>\n",
    "It also promotes the use of best practices and standards, which can improve collaboration and efficiency within a team."
   ]
  },
  {
   "cell_type": "markdown",
   "metadata": {},
   "source": [
    "**_Comparison_** <br>\n",
    "In summary, inheritance is used to create new classes that are based on existing classes, while polymorphism is used to treat objects of different classes in a similar way."
   ]
  },
  {
   "cell_type": "markdown",
   "metadata": {},
   "source": [
    "https://www.educative.io/blog/what-is-polymorphism-python"
   ]
  },
  {
   "attachments": {},
   "cell_type": "markdown",
   "metadata": {},
   "source": [
    "## 3. Encapsulation"
   ]
  },
  {
   "attachments": {},
   "cell_type": "markdown",
   "metadata": {},
   "source": [
    "**Encapsulation** is the practice of hiding the internal details of a class from the outside world and exposing a public interface for interacting with the class. <br>\n",
    "In Python, encapsulation can be achieved through the use of access modifiers like public, private (with _single_ underscore), and protected (with _double_ underscore).\n",
    "\n",
    "It acts as a protective shield that puts restrictions on accessing variables and methods directly, and can prevent accidental or unauthorized modification of data."
   ]
  },
  {
   "cell_type": "code",
   "execution_count": 5,
   "metadata": {},
   "outputs": [
    {
     "name": "stdout",
     "output_type": "stream",
     "text": [
      "1300\n"
     ]
    }
   ],
   "source": [
    "class BankAccount:\n",
    "    def __init__(self, account_number, balance):\n",
    "        self.__account_number = account_number  # Cannot be accessed outside of class\n",
    "        self.__balance = balance  # Cannot be accessed outside of class\n",
    "\n",
    "    def get_balance(self):\n",
    "        return self.__balance\n",
    "\n",
    "    def deposit(self, amount):\n",
    "        self.__balance += amount\n",
    "\n",
    "    def withdraw(self, amount):\n",
    "        if amount > self.__balance:\n",
    "            raise ValueError(\"Insufficient balance\")\n",
    "        self.__balance -= amount\n",
    "\n",
    "my_account = BankAccount(\"1234\", 1000)\n",
    "my_account.deposit(500)\n",
    "my_account.withdraw(200)\n",
    "\n",
    "print(my_account.get_balance()) # Output: 1300"
   ]
  },
  {
   "attachments": {},
   "cell_type": "markdown",
   "metadata": {},
   "source": [
    "1. Encapsulation improves modularity: <br>\n",
    "By encapsulating the internal details of an object, it becomes easier to change the implementation of the object without affecting the rest of the code. This allows for greater modularity, which can make the code easier to maintain and modify over time.\n",
    "\n",
    "2. Encapsulation improves security: <br>\n",
    "By controlling the access to an object's internal state, encapsulation can help prevent unintended or malicious modifications of the object. This can help improve the security and reliability of the code.\n",
    "\n",
    "In summary, encapsulation is useful in machine learning for promoting modularity, protecting data privacy, improving code reuse, and helping with debugging. By encapsulating the different components of a model, you can make the code more maintainable, scalable, and easier to understand."
   ]
  },
  {
   "attachments": {},
   "cell_type": "markdown",
   "metadata": {},
   "source": [
    "https://www.educative.io/answers/what-is-encapsulation-in-python"
   ]
  },
  {
   "attachments": {},
   "cell_type": "markdown",
   "metadata": {},
   "source": [
    "## 4. Decorators"
   ]
  },
  {
   "attachments": {},
   "cell_type": "markdown",
   "metadata": {},
   "source": [
    "**Decorator** is a special type of function that can modify or extend the behavior of another function or class.\n",
    "\n",
    "A decorator function takes a function as an argument, performs some operation on it, and returns the modified function. <br>\n",
    "The syntax for using a decorator is to prepend the function with the decorator function using the \"@\" symbol."
   ]
  },
  {
   "cell_type": "code",
   "execution_count": 6,
   "metadata": {},
   "outputs": [
    {
     "name": "stdout",
     "output_type": "stream",
     "text": [
      "Calling function: add\n",
      "5\n"
     ]
    }
   ],
   "source": [
    "def log_decorator(func):\n",
    "    def wrapper(*args, **kwargs):\n",
    "        print(\"Calling function:\", func.__name__)\n",
    "        result = func(*args, **kwargs)\n",
    "        return result\n",
    "    return wrapper\n",
    "\n",
    "@log_decorator\n",
    "def add(a, b):\n",
    "    return a + b\n",
    "\n",
    "print(add(2, 3))"
   ]
  },
  {
   "attachments": {},
   "cell_type": "markdown",
   "metadata": {},
   "source": [
    "_Benefits:_ <br>\n",
    "Decorators are commonly used in Python for tasks like logging, performance monitoring, authentication, and caching. They can also be used to modify the behavior of classes and methods in addition to functions."
   ]
  }
 ],
 "metadata": {
  "kernelspec": {
   "display_name": "Python 3",
   "language": "python",
   "name": "python3"
  },
  "language_info": {
   "codemirror_mode": {
    "name": "ipython",
    "version": 3
   },
   "file_extension": ".py",
   "mimetype": "text/x-python",
   "name": "python",
   "nbconvert_exporter": "python",
   "pygments_lexer": "ipython3",
   "version": "3.9.6"
  },
  "orig_nbformat": 4
 },
 "nbformat": 4,
 "nbformat_minor": 2
}
